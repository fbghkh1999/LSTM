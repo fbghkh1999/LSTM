{
  "nbformat": 4,
  "nbformat_minor": 0,
  "metadata": {
    "colab": {
      "name": "RNN-GoogleStockPrice.ipynb",
      "provenance": [],
      "collapsed_sections": [],
      "include_colab_link": true
    },
    "kernelspec": {
      "name": "python3",
      "display_name": "Python 3"
    }
  },
  "cells": [
    {
      "cell_type": "markdown",
      "metadata": {
        "id": "view-in-github",
        "colab_type": "text"
      },
      "source": [
        "<a href=\"https://colab.research.google.com/github/fbghkh1999/LSTM/blob/master/RNN_GoogleStockPrice.ipynb\" target=\"_parent\"><img src=\"https://colab.research.google.com/assets/colab-badge.svg\" alt=\"Open In Colab\"/></a>"
      ]
    },
    {
      "cell_type": "code",
      "metadata": {
        "id": "MHH2u6-f_MVi",
        "colab_type": "code",
        "colab": {}
      },
      "source": [
        "import numpy as np\n",
        "import matplotlib.pyplot as plt\n",
        "import pandas as pd"
      ],
      "execution_count": null,
      "outputs": []
    },
    {
      "cell_type": "code",
      "metadata": {
        "id": "awHb4iIn_d0Y",
        "colab_type": "code",
        "colab": {
          "base_uri": "https://localhost:8080/",
          "height": 136
        },
        "outputId": "745ee88b-a1bc-4034-fd76-f923074dd38c"
      },
      "source": [
        "#Dataset import \n",
        "dataset_train = pd.read_csv('/content/Google_Stock_Price_Train.csv')\n",
        "training_set = dataset_train.iloc[:,1:2].values\n",
        "training_set"
      ],
      "execution_count": null,
      "outputs": [
        {
          "output_type": "execute_result",
          "data": {
            "text/plain": [
              "array([[325.25],\n",
              "       [331.27],\n",
              "       [329.83],\n",
              "       ...,\n",
              "       [793.7 ],\n",
              "       [783.33],\n",
              "       [782.75]])"
            ]
          },
          "metadata": {
            "tags": []
          },
          "execution_count": 2
        }
      ]
    },
    {
      "cell_type": "code",
      "metadata": {
        "id": "zUFrl6J_Badg",
        "colab_type": "code",
        "colab": {
          "base_uri": "https://localhost:8080/",
          "height": 136
        },
        "outputId": "bf667d9d-4b3e-4f48-ec90-2d95443e1604"
      },
      "source": [
        "#skale data into \n",
        "from sklearn.preprocessing import MinMaxScaler\n",
        "sc = MinMaxScaler(feature_range=(0,1))\n",
        "training_set_scaled = sc.fit_transform(training_set)\n",
        "training_set_scaled"
      ],
      "execution_count": null,
      "outputs": [
        {
          "output_type": "execute_result",
          "data": {
            "text/plain": [
              "array([[0.08581368],\n",
              "       [0.09701243],\n",
              "       [0.09433366],\n",
              "       ...,\n",
              "       [0.95725128],\n",
              "       [0.93796041],\n",
              "       [0.93688146]])"
            ]
          },
          "metadata": {
            "tags": []
          },
          "execution_count": 3
        }
      ]
    },
    {
      "cell_type": "code",
      "metadata": {
        "id": "3vHudRY8CSNG",
        "colab_type": "code",
        "colab": {}
      },
      "source": [
        "#Train set spliting\n",
        "x_train = []\n",
        "y_train = []\n",
        "for i in range(60, 1258):\n",
        "  x_train.append(training_set_scaled[i-60:i,0])\n",
        "  y_train.append(training_set_scaled[i,0])"
      ],
      "execution_count": null,
      "outputs": []
    },
    {
      "cell_type": "code",
      "metadata": {
        "id": "qLMtf7sXEdXs",
        "colab_type": "code",
        "colab": {
          "base_uri": "https://localhost:8080/",
          "height": 850
        },
        "outputId": "5fc2d55a-f75e-4585-84c6-bde9a4ed8e2f"
      },
      "source": [
        "#REforming to np arrays\n",
        "x_train, y_train = np.array(x_train), np.array(y_train)\n",
        "#reshaping to 3d tensor\n",
        "x_train = np.reshape(x_train, (x_train.shape[0], x_train.shape[1], 1)) \n",
        "x_train"
      ],
      "execution_count": null,
      "outputs": [
        {
          "output_type": "execute_result",
          "data": {
            "text/plain": [
              "array([[[0.08581368],\n",
              "        [0.09701243],\n",
              "        [0.09433366],\n",
              "        ...,\n",
              "        [0.07846566],\n",
              "        [0.08034452],\n",
              "        [0.08497656]],\n",
              "\n",
              "       [[0.09701243],\n",
              "        [0.09433366],\n",
              "        [0.09156187],\n",
              "        ...,\n",
              "        [0.08034452],\n",
              "        [0.08497656],\n",
              "        [0.08627874]],\n",
              "\n",
              "       [[0.09433366],\n",
              "        [0.09156187],\n",
              "        [0.07984225],\n",
              "        ...,\n",
              "        [0.08497656],\n",
              "        [0.08627874],\n",
              "        [0.08471612]],\n",
              "\n",
              "       ...,\n",
              "\n",
              "       [[0.92106928],\n",
              "        [0.92438053],\n",
              "        [0.93048218],\n",
              "        ...,\n",
              "        [0.95475854],\n",
              "        [0.95204256],\n",
              "        [0.95163331]],\n",
              "\n",
              "       [[0.92438053],\n",
              "        [0.93048218],\n",
              "        [0.9299055 ],\n",
              "        ...,\n",
              "        [0.95204256],\n",
              "        [0.95163331],\n",
              "        [0.95725128]],\n",
              "\n",
              "       [[0.93048218],\n",
              "        [0.9299055 ],\n",
              "        [0.93113327],\n",
              "        ...,\n",
              "        [0.95163331],\n",
              "        [0.95725128],\n",
              "        [0.93796041]]])"
            ]
          },
          "metadata": {
            "tags": []
          },
          "execution_count": 5
        }
      ]
    },
    {
      "cell_type": "code",
      "metadata": {
        "id": "nYmuNoLJFH7h",
        "colab_type": "code",
        "colab": {}
      },
      "source": [
        "from keras.models import Sequential\n",
        "from keras.layers import Dense\n",
        "from keras.layers import LSTM\n",
        "from keras.layers import Dropout\n"
      ],
      "execution_count": null,
      "outputs": []
    },
    {
      "cell_type": "code",
      "metadata": {
        "id": "U8yqb_EqGEac",
        "colab_type": "code",
        "colab": {}
      },
      "source": [
        "#preparing the sequential model \n",
        "model = Sequential()"
      ],
      "execution_count": null,
      "outputs": []
    },
    {
      "cell_type": "code",
      "metadata": {
        "id": "apY7Hm82GcVy",
        "colab_type": "code",
        "colab": {
          "base_uri": "https://localhost:8080/",
          "height": 1000
        },
        "outputId": "c35ef693-914b-43c5-dd67-ef6f4e7bfbe8"
      },
      "source": [
        "#LSTM first layer  \n",
        "model.add(LSTM(units=50, return_sequences=True, input_shape= (x_train.shape[1],1) ))\n",
        "model.add(Dropout(0.20))\n",
        "#LSTM second layer \n",
        "model.add(LSTM(units=50, return_sequences=True, input_shape= (x_train.shape[1],1) ))\n",
        "model.add(Dropout(0.20))\n",
        "#LSTM third layer \n",
        "model.add(LSTM(units=50, return_sequences=True, input_shape= (x_train.shape[1],1) ))\n",
        "model.add(Dropout(0.20))\n",
        "#LSTM forth layer \n",
        "model.add(LSTM(units=50, return_sequences=True, input_shape= (x_train.shape[1],1) ))\n",
        "model.add(Dropout(0.20))\n",
        "\n",
        "#Dense output layer\n",
        "model.add(Dense(units = 1))\n",
        "\n",
        "#compile\n",
        "model.compile(optimizer='adam', loss='mean_squared_error')\n",
        "\n",
        "#fit\n",
        "model.fit(x_train, y_train, epochs=50, batch_size=32)"
      ],
      "execution_count": null,
      "outputs": [
        {
          "output_type": "stream",
          "text": [
            "Epoch 1/50\n",
            "38/38 [==============================] - 8s 206ms/step - loss: 0.1016\n",
            "Epoch 2/50\n",
            "38/38 [==============================] - 8s 213ms/step - loss: 0.0361\n",
            "Epoch 3/50\n",
            "38/38 [==============================] - 8s 212ms/step - loss: 0.0278\n",
            "Epoch 4/50\n",
            "38/38 [==============================] - 8s 212ms/step - loss: 0.0241\n",
            "Epoch 5/50\n",
            "38/38 [==============================] - 8s 212ms/step - loss: 0.0214\n",
            "Epoch 6/50\n",
            "38/38 [==============================] - 8s 213ms/step - loss: 0.0195\n",
            "Epoch 7/50\n",
            "38/38 [==============================] - 8s 214ms/step - loss: 0.0178\n",
            "Epoch 8/50\n",
            "38/38 [==============================] - 8s 215ms/step - loss: 0.0170\n",
            "Epoch 9/50\n",
            "38/38 [==============================] - 8s 215ms/step - loss: 0.0154\n",
            "Epoch 10/50\n",
            "38/38 [==============================] - 8s 214ms/step - loss: 0.0154\n",
            "Epoch 11/50\n",
            "38/38 [==============================] - 8s 214ms/step - loss: 0.0138\n",
            "Epoch 12/50\n",
            "38/38 [==============================] - 8s 215ms/step - loss: 0.0130\n",
            "Epoch 13/50\n",
            "38/38 [==============================] - 8s 215ms/step - loss: 0.0127\n",
            "Epoch 14/50\n",
            "38/38 [==============================] - 8s 213ms/step - loss: 0.0123\n",
            "Epoch 15/50\n",
            "38/38 [==============================] - 8s 215ms/step - loss: 0.0116\n",
            "Epoch 16/50\n",
            "38/38 [==============================] - 8s 215ms/step - loss: 0.0110\n",
            "Epoch 17/50\n",
            "38/38 [==============================] - 8s 215ms/step - loss: 0.0108\n",
            "Epoch 18/50\n",
            "38/38 [==============================] - 8s 213ms/step - loss: 0.0105\n",
            "Epoch 19/50\n",
            "38/38 [==============================] - 8s 214ms/step - loss: 0.0099\n",
            "Epoch 20/50\n",
            "38/38 [==============================] - 8s 218ms/step - loss: 0.0095\n",
            "Epoch 21/50\n",
            "38/38 [==============================] - 9s 224ms/step - loss: 0.0094\n",
            "Epoch 22/50\n",
            "38/38 [==============================] - 8s 215ms/step - loss: 0.0095\n",
            "Epoch 23/50\n",
            "38/38 [==============================] - 8s 215ms/step - loss: 0.0094\n",
            "Epoch 24/50\n",
            "38/38 [==============================] - 8s 216ms/step - loss: 0.0091\n",
            "Epoch 25/50\n",
            "38/38 [==============================] - 8s 217ms/step - loss: 0.0089\n",
            "Epoch 26/50\n",
            "38/38 [==============================] - 8s 216ms/step - loss: 0.0086\n",
            "Epoch 27/50\n",
            "38/38 [==============================] - 8s 217ms/step - loss: 0.0085\n",
            "Epoch 28/50\n",
            "38/38 [==============================] - 9s 224ms/step - loss: 0.0086\n",
            "Epoch 29/50\n",
            "38/38 [==============================] - 8s 217ms/step - loss: 0.0083\n",
            "Epoch 30/50\n",
            "38/38 [==============================] - 8s 216ms/step - loss: 0.0078\n",
            "Epoch 31/50\n",
            "38/38 [==============================] - 8s 216ms/step - loss: 0.0077\n",
            "Epoch 32/50\n",
            "38/38 [==============================] - 8s 216ms/step - loss: 0.0077\n",
            "Epoch 33/50\n",
            "38/38 [==============================] - 8s 216ms/step - loss: 0.0075\n",
            "Epoch 34/50\n",
            "38/38 [==============================] - 8s 216ms/step - loss: 0.0073\n",
            "Epoch 35/50\n",
            "38/38 [==============================] - 8s 217ms/step - loss: 0.0071\n",
            "Epoch 36/50\n",
            "38/38 [==============================] - 8s 216ms/step - loss: 0.0067\n",
            "Epoch 37/50\n",
            "38/38 [==============================] - 8s 216ms/step - loss: 0.0066\n",
            "Epoch 38/50\n",
            "38/38 [==============================] - 8s 215ms/step - loss: 0.0066\n",
            "Epoch 39/50\n",
            "38/38 [==============================] - 8s 216ms/step - loss: 0.0063\n",
            "Epoch 40/50\n",
            "38/38 [==============================] - 8s 215ms/step - loss: 0.0067\n",
            "Epoch 41/50\n",
            "38/38 [==============================] - 8s 217ms/step - loss: 0.0064\n",
            "Epoch 42/50\n",
            "38/38 [==============================] - 8s 216ms/step - loss: 0.0060\n",
            "Epoch 43/50\n",
            "38/38 [==============================] - 8s 217ms/step - loss: 0.0059\n",
            "Epoch 44/50\n",
            "38/38 [==============================] - 8s 218ms/step - loss: 0.0059\n",
            "Epoch 45/50\n",
            "38/38 [==============================] - 8s 217ms/step - loss: 0.0060\n",
            "Epoch 46/50\n",
            "38/38 [==============================] - 8s 217ms/step - loss: 0.0057\n",
            "Epoch 47/50\n",
            "38/38 [==============================] - 8s 214ms/step - loss: 0.0055\n",
            "Epoch 48/50\n",
            "38/38 [==============================] - 8s 216ms/step - loss: 0.0058\n",
            "Epoch 49/50\n",
            "38/38 [==============================] - 8s 217ms/step - loss: 0.0060\n",
            "Epoch 50/50\n",
            "38/38 [==============================] - 8s 217ms/step - loss: 0.0058\n"
          ],
          "name": "stdout"
        },
        {
          "output_type": "execute_result",
          "data": {
            "text/plain": [
              "<tensorflow.python.keras.callbacks.History at 0x7f87ccbf96a0>"
            ]
          },
          "metadata": {
            "tags": []
          },
          "execution_count": 9
        }
      ]
    }
  ]
}